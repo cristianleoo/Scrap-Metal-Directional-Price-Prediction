{
 "cells": [
  {
   "cell_type": "markdown",
   "id": "9eeabf86",
   "metadata": {},
   "source": [
    "### API ALPHA VANTAGE"
   ]
  },
  {
   "cell_type": "code",
   "execution_count": 3,
   "id": "df29e3b0",
   "metadata": {},
   "outputs": [],
   "source": [
    "from pprint import pprint"
   ]
  },
  {
   "cell_type": "code",
   "execution_count": null,
   "id": "757fa34c",
   "metadata": {},
   "outputs": [],
   "source": [
    "tickers = [AMR,SWN,TPL,COO,KALU]"
   ]
  },
  {
   "cell_type": "code",
   "execution_count": 51,
   "id": "63c1f777",
   "metadata": {},
   "outputs": [],
   "source": [
    "import requests\n",
    "\n",
    "# Assuming you have a formatted_date variable\n",
    "\n",
    "url = f'https://www.alphavantage.co/query?function=NEWS_SENTIMENT&tickers=COO&limit=1000&apikey=8OA18HMQ8KC62Q10'\n",
    "r = requests.get(url)\n",
    "data = r.json()\n"
   ]
  },
  {
   "cell_type": "code",
   "execution_count": 52,
   "id": "a3c7e8a4",
   "metadata": {},
   "outputs": [
    {
     "name": "stdout",
     "output_type": "stream",
     "text": [
      "{'authors': ['GRIT Capital'],\n",
      " 'banner_image': 'https://cdn.benzinga.com/files/images/story/2023/08/30/nicholas-cappello-wb63zqj5gne-unsplash_4.jpg?width=1200&height=800&fit=crop',\n",
      " 'category_within_source': 'Markets',\n",
      " 'overall_sentiment_label': 'Neutral',\n",
      " 'overall_sentiment_score': -0.038605,\n",
      " 'source': 'Benzinga',\n",
      " 'source_domain': 'www.benzinga.com',\n",
      " 'summary': \"Recent economic data is encouraging but Citi's Economic Surprise \"\n",
      "            'Index suggests that the trend could be changing: The labor market '\n",
      "            \"is showing signs of cooling. That's the message being sent by \"\n",
      "            'yesterday\\'s JOLTs data which revealed \"just\" 8.8 million job '\n",
      "            'openings in July.',\n",
      " 'ticker_sentiment': [{'relevance_score': '0.100729',\n",
      "                       'ticker': 'BBY',\n",
      "                       'ticker_sentiment_label': 'Neutral',\n",
      "                       'ticker_sentiment_score': '0.0'},\n",
      "                      {'relevance_score': '0.050465',\n",
      "                       'ticker': 'MSFT',\n",
      "                       'ticker_sentiment_label': 'Neutral',\n",
      "                       'ticker_sentiment_score': '0.025736'},\n",
      "                      {'relevance_score': '0.050465',\n",
      "                       'ticker': 'GOOG',\n",
      "                       'ticker_sentiment_label': 'Neutral',\n",
      "                       'ticker_sentiment_score': '0.025736'},\n",
      "                      {'relevance_score': '0.100729',\n",
      "                       'ticker': 'COO',\n",
      "                       'ticker_sentiment_label': 'Neutral',\n",
      "                       'ticker_sentiment_score': '0.0'},\n",
      "                      {'relevance_score': '0.050465',\n",
      "                       'ticker': 'BF-A',\n",
      "                       'ticker_sentiment_label': 'Neutral',\n",
      "                       'ticker_sentiment_score': '0.0'},\n",
      "                      {'relevance_score': '0.050465',\n",
      "                       'ticker': 'GLPI',\n",
      "                       'ticker_sentiment_label': 'Neutral',\n",
      "                       'ticker_sentiment_score': '-0.090365'},\n",
      "                      {'relevance_score': '0.100729',\n",
      "                       'ticker': 'CRYPTO:BTC',\n",
      "                       'ticker_sentiment_label': 'Neutral',\n",
      "                       'ticker_sentiment_score': '0.028838'}],\n",
      " 'time_published': '20230830T150921',\n",
      " 'title': 'Score One For Crypto Enthusiasts - Brown Forman Inc Class A Common '\n",
      "          'Stock  ( NYSE:BF/A ) , Best Buy Co  ( NYSE:BBY ) ',\n",
      " 'topics': [{'relevance_score': '0.2', 'topic': 'Life Sciences'},\n",
      "            {'relevance_score': '0.2', 'topic': 'Technology'},\n",
      "            {'relevance_score': '0.2', 'topic': 'Retail & Wholesale'},\n",
      "            {'relevance_score': '0.714479', 'topic': 'Financial Markets'},\n",
      "            {'relevance_score': '0.2', 'topic': 'Manufacturing'},\n",
      "            {'relevance_score': '0.360215', 'topic': 'Mergers & Acquisitions'},\n",
      "            {'relevance_score': '0.161647', 'topic': 'Earnings'},\n",
      "            {'relevance_score': '0.2', 'topic': 'Real Estate & Construction'}],\n",
      " 'url': 'https://www.benzinga.com/economics/macro-economic-events/23/08/34117935/score-one-for-crypto-enthusiasts'}\n"
     ]
    }
   ],
   "source": [
    "pprint(data['feed'][10])"
   ]
  },
  {
   "cell_type": "code",
   "execution_count": 14,
   "id": "74ff7d74",
   "metadata": {},
   "outputs": [],
   "source": [
    "import pandas as pd"
   ]
  },
  {
   "cell_type": "code",
   "execution_count": 21,
   "id": "0d372d94",
   "metadata": {},
   "outputs": [
    {
     "name": "stdout",
     "output_type": "stream",
     "text": [
      "      time_published relevance_score ticker ticker_sentiment_label  \\\n",
      "0    20220304T155200        0.234987    COO       Somewhat-Bullish   \n",
      "1    20231013T083500         0.06179    COO                Neutral   \n",
      "2    20231013T083500         0.06179    COO                Neutral   \n",
      "3    20231013T083500         0.06179    COO                Neutral   \n",
      "4    20230924T103500        0.054359    COO                Neutral   \n",
      "..               ...             ...    ...                    ...   \n",
      "170  20220427T103525        0.073333    COO                Neutral   \n",
      "171  20220427T103525        0.073333    COO                Neutral   \n",
      "172  20220427T103525        0.073333    COO                Neutral   \n",
      "173  20220307T144800        0.489394    COO                Neutral   \n",
      "174  20220307T144800        0.489394    COO                Neutral   \n",
      "\n",
      "    ticker_sentiment_score  \n",
      "0                 0.177683  \n",
      "1                      0.0  \n",
      "2                      0.0  \n",
      "3                      0.0  \n",
      "4                      0.0  \n",
      "..                     ...  \n",
      "170               0.095016  \n",
      "171               0.095016  \n",
      "172               0.095016  \n",
      "173               0.001152  \n",
      "174               0.001152  \n",
      "\n",
      "[175 rows x 5 columns]\n"
     ]
    }
   ],
   "source": [
    "# Initialize a list to store the extracted information\n",
    "extracted_data = []\n",
    "\n",
    "# Loop through each entry in the 'feed'\n",
    "for entry in data['feed']:\n",
    "    # Check if 'ticker_sentiment' is not empty\n",
    "    if entry['ticker_sentiment'] and entry['ticker_sentiment'][0]['ticker'] in tickers:\n",
    "        # Extract the desired information\n",
    "        extracted_info = {\n",
    "            'time_published': entry['time_published'],\n",
    "            'relevance_score': entry['ticker_sentiment'][0]['relevance_score'],\n",
    "            'ticker': entry['ticker_sentiment'][0]['ticker'],\n",
    "            'ticker_sentiment_label': entry['ticker_sentiment'][0]['ticker_sentiment_label'],\n",
    "            'ticker_sentiment_score': entry['ticker_sentiment'][0]['ticker_sentiment_score']\n",
    "        }\n",
    "\n",
    "    # Append the extracted information to the list\n",
    "    extracted_data.append(extracted_info)\n",
    "\n",
    "# Create a DataFrame from the extracted data\n",
    "df = pd.DataFrame(extracted_data)\n",
    "\n",
    "# Print the DataFrame\n",
    "print(df)"
   ]
  },
  {
   "cell_type": "code",
   "execution_count": 25,
   "id": "0238af97",
   "metadata": {},
   "outputs": [
    {
     "name": "stdout",
     "output_type": "stream",
     "text": [
      "      time_published relevance_score ticker ticker_sentiment_label  \\\n",
      "0    20231013T113600        0.464259    COO                Bullish   \n",
      "1    20231013T083500         0.06179    COO                Neutral   \n",
      "2    20231005T130943        0.273807    COO       Somewhat-Bearish   \n",
      "3    20230927T173300        0.585052    COO                Bullish   \n",
      "4    20230924T103500        0.054359    COO                Neutral   \n",
      "..               ...             ...    ...                    ...   \n",
      "170  20220406T144900        0.363312    COO       Somewhat-Bullish   \n",
      "171  20220406T144900        0.362404    COO                Neutral   \n",
      "172  20220321T210900        0.198221    COO                Neutral   \n",
      "173  20220307T144800        0.489394    COO                Neutral   \n",
      "174  20220304T155200        0.234987    COO       Somewhat-Bullish   \n",
      "\n",
      "    ticker_sentiment_score  \n",
      "0                  0.44333  \n",
      "1                      0.0  \n",
      "2                -0.150394  \n",
      "3                 0.422148  \n",
      "4                      0.0  \n",
      "..                     ...  \n",
      "170               0.183939  \n",
      "171               0.128786  \n",
      "172               0.000728  \n",
      "173               0.001152  \n",
      "174               0.177683  \n",
      "\n",
      "[175 rows x 5 columns]\n"
     ]
    }
   ],
   "source": [
    "import pandas as pd\n",
    "\n",
    "df = pd.DataFrame(extracted_data)\n",
    "\n",
    "print(df)"
   ]
  },
  {
   "cell_type": "markdown",
   "id": "d8c0462e",
   "metadata": {},
   "source": [
    "#### Extract News"
   ]
  },
  {
   "cell_type": "code",
   "execution_count": 27,
   "id": "64126b21",
   "metadata": {},
   "outputs": [
    {
     "name": "stdout",
     "output_type": "stream",
     "text": [
      "      time_published            source  \\\n",
      "0    20220304T155200  Zacks Commentary   \n",
      "1    20231013T083500       PR Newswire   \n",
      "2    20231013T083500       PR Newswire   \n",
      "3    20231013T083500       PR Newswire   \n",
      "4    20230924T103500       PR Newswire   \n",
      "..               ...               ...   \n",
      "170  20220427T103525          Benzinga   \n",
      "171  20220427T103525          Benzinga   \n",
      "172  20220427T103525          Benzinga   \n",
      "173  20220307T144800  Zacks Commentary   \n",
      "174  20220307T144800  Zacks Commentary   \n",
      "\n",
      "                                                 title  \\\n",
      "0    Cooper Companies  ( COO )  Q1 Earnings & Reven...   \n",
      "1    Ophthalmology Devices Market size to grow by U...   \n",
      "2    Ophthalmology Devices Market size to grow by U...   \n",
      "3    Ophthalmology Devices Market size to grow by U...   \n",
      "4    Laparoscopic Devices Market to grow by USD 4.3...   \n",
      "..                                                 ...   \n",
      "170  With 5.6% CAGR, Contact Lenses Market Size wor...   \n",
      "171  With 5.6% CAGR, Contact Lenses Market Size wor...   \n",
      "172  With 5.6% CAGR, Contact Lenses Market Size wor...   \n",
      "173                       Company News for Mar 7, 2022   \n",
      "174                       Company News for Mar 7, 2022   \n",
      "\n",
      "                                               summary relevance_score ticker  \n",
      "0    Cooper Companies' (COO) fiscal first-quarter e...             NaN    NaN  \n",
      "1    Ophthalmology Devices Market size to grow by U...         0.06179    COO  \n",
      "2    Ophthalmology Devices Market size to grow by U...         0.06179    COO  \n",
      "3    Ophthalmology Devices Market size to grow by U...         0.06179    COO  \n",
      "4    Laparoscopic Devices Market to grow by USD 4.3...        0.054359    COO  \n",
      "..                                                 ...             ...    ...  \n",
      "170  Pune, India, April  27, 2022   ( GLOBE NEWSWIR...        0.073333    COO  \n",
      "171  Pune, India, April  27, 2022   ( GLOBE NEWSWIR...        0.073333    COO  \n",
      "172  Pune, India, April  27, 2022   ( GLOBE NEWSWIR...        0.073333    COO  \n",
      "173       Companies in The News Are: AVGO,CO,ESTC,PWSC        0.489394    COO  \n",
      "174       Companies in The News Are: AVGO,CO,ESTC,PWSC        0.489394    COO  \n",
      "\n",
      "[175 rows x 6 columns]\n"
     ]
    }
   ],
   "source": [
    "# Initialize a list to store the extracted information\n",
    "extracted_news = []\n",
    "\n",
    "# Loop through each entry in the 'feed'\n",
    "for entry in data['feed']:\n",
    "    # Check if 'ticker_sentiment' is not empty\n",
    "    if entry['ticker_sentiment'] and entry['ticker_sentiment'][0]['ticker'] in tickers:\n",
    "        # Extract the desired information\n",
    "        extracted_info = {\n",
    "            'time_published': entry['time_published'],\n",
    "            'relevance_score': entry['ticker_sentiment'][0]['relevance_score'],\n",
    "            'ticker': entry['ticker_sentiment'][0]['ticker'],\n",
    "            'source': entry['source'],\n",
    "            'title': entry['title'],\n",
    "            'summary': entry['summary']\n",
    "        }\n",
    "\n",
    "    # Append the extracted information to the list\n",
    "    extracted_news.append(extracted_info)\n",
    "\n",
    "# Create a DataFrame from the extracted data\n",
    "df_news = pd.DataFrame(extracted_news)\n",
    "\n",
    "# Print the DataFrame\n",
    "print(df_news)"
   ]
  },
  {
   "cell_type": "code",
   "execution_count": 17,
   "id": "30e8e8d8",
   "metadata": {},
   "outputs": [],
   "source": [
    "# Save the DataFrame to a CSV file\n",
    "df_news.to_csv('alphavantage_news.csv', index=False)"
   ]
  },
  {
   "cell_type": "code",
   "execution_count": 186,
   "id": "2447d276",
   "metadata": {},
   "outputs": [],
   "source": [
    "# Save the DataFrame to a CSV file\n",
    "df.to_csv('alphavantage.csv', index=False)"
   ]
  },
  {
   "cell_type": "code",
   "execution_count": null,
   "id": "0761de33",
   "metadata": {},
   "outputs": [],
   "source": []
  }
 ],
 "metadata": {
  "kernelspec": {
   "display_name": "Python 3 (ipykernel)",
   "language": "python",
   "name": "python3"
  },
  "language_info": {
   "codemirror_mode": {
    "name": "ipython",
    "version": 3
   },
   "file_extension": ".py",
   "mimetype": "text/x-python",
   "name": "python",
   "nbconvert_exporter": "python",
   "pygments_lexer": "ipython3",
   "version": "3.9.13"
  }
 },
 "nbformat": 4,
 "nbformat_minor": 5
}
